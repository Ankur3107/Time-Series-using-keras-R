{
  "cells": [
    {
      "metadata": {
        "_uuid": "8f2839f25d086af736a60e9eeb907d3b93b6e0e5",
        "_cell_guid": "b1076dfc-b9ad-4769-8c92-a6c4dae69d19",
        "trusted": true
      },
      "cell_type": "code",
      "source": "# Core Tidyverse\nlibrary(tidyverse)\nlibrary(glue)\nlibrary(forcats)\n\n# Time Series\nlibrary(timetk)\nlibrary(tidyquant)\nlibrary(tibbletime)\n\n# Visualization\nlibrary(cowplot)\n\n# Preprocessing\nlibrary(recipes)\n\n# Sampling / Accuracy\nlibrary(rsample)\nlibrary(yardstick) \n\n# Modeling\nlibrary(keras)\nlibrary(tfruns)",
      "execution_count": null,
      "outputs": []
    },
    {
      "metadata": {
        "_cell_guid": "79c7e3d0-c299-4dcb-8224-4455121ee9b0",
        "_uuid": "d629ff2d2480ee46fbb7e2d37f6b5fab8052498a",
        "trusted": true
      },
      "cell_type": "code",
      "source": "sun_spots <- datasets::sunspot.month %>%\n    tk_tbl() %>%\n    mutate(index = as_date(index)) %>%\n    as_tbl_time(index = index)\n\nsun_spots %>% head(10)",
      "execution_count": null,
      "outputs": []
    },
    {
      "metadata": {
        "trusted": true,
        "_uuid": "81677b770bf8e29438128db6241b13bb38adf891"
      },
      "cell_type": "code",
      "source": "p1 <- sun_spots %>%\n    ggplot(aes(index, value)) +\n    geom_point(color = palette_light()[[1]], alpha = 0.5) +\n    theme_tq() +\n    labs(\n        title = \"From 1749 to 2013 (Full Data Set)\"\n    )\n\np2 <- sun_spots %>%\n    filter_time(\"start\" ~ \"1800\") %>%\n    ggplot(aes(index, value)) +\n    geom_line(color = palette_light()[[1]], alpha = 0.5) +\n    geom_point(color = palette_light()[[1]]) +\n    geom_smooth(method = \"loess\", span = 0.2, se = FALSE) +\n    theme_tq() +\n    labs(\n        title = \"1749 to 1759 (Zoomed In To Show Changes over the Year)\",\n        caption = \"datasets::sunspot.month\"\n    )\n\np_title <- ggdraw() + \n  draw_label(\"Sunspots\", size = 18, fontface = \"bold\", \n             colour = palette_light()[[1]])",
      "execution_count": null,
      "outputs": []
    },
    {
      "metadata": {
        "trusted": true,
        "_uuid": "ba21d18bb99562b5618ce5c22eabec6dba746c70"
      },
      "cell_type": "code",
      "source": "plot_grid(p_title, p1, p2, ncol = 1, rel_heights = c(0.1, 1, 1))",
      "execution_count": null,
      "outputs": []
    },
    {
      "metadata": {
        "trusted": true,
        "_uuid": "f1ef2081045b028f54d8075ee7863384bc78aa35"
      },
      "cell_type": "code",
      "source": "periods_train <- 12 * 100\nperiods_test  <- 12 * 50\nskip_span     <- 12 * 22 - 1\n\nrolling_origin_resamples <- rolling_origin(\n  sun_spots,\n  initial    = periods_train,\n  assess     = periods_test,\n  cumulative = FALSE,\n  skip       = skip_span\n)\n\ndim(rolling_origin_resamples)",
      "execution_count": null,
      "outputs": []
    },
    {
      "metadata": {
        "trusted": true,
        "_uuid": "65dfed212b48f9fa51f2a1e0aebba2ffa1285d46"
      },
      "cell_type": "code",
      "source": "# Plotting function for a single split\nplot_split <- function(split, expand_y_axis = TRUE, \n                       alpha = 1, size = 1, base_size = 14) {\n    \n    # Manipulate data\n    train_tbl <- training(split) %>%\n        add_column(key = \"training\")\n    \n    #print(head(train_tbl))\n    \n    test_tbl  <- testing(split) %>%\n        add_column(key = \"testing\")\n    \n    #print(head(test_tbl))\n    \n    data_manipulated <- bind_rows(train_tbl, test_tbl) %>%\n        as_tbl_time(index = index) %>%\n        mutate(key = fct_relevel(key, \"training\", \"testing\"))\n      \n    #print(head(data_manipulated))\n    \n    # Collect attributes\n    train_time_summary <- train_tbl %>%\n        tk_index() %>%\n        tk_get_timeseries_summary()\n    \n    #print(head(train_time_summary))\n    \n    test_time_summary <- test_tbl %>%\n        tk_index() %>%\n        tk_get_timeseries_summary()\n    \n    #print(head(test_time_summary))\n    \n    # Visualize\n    g <- data_manipulated %>%\n        ggplot(aes(x = index, y = value, color = key)) +\n        geom_line(size = size, alpha = alpha) +\n        theme_tq(base_size = base_size) +\n        scale_color_tq() +\n        labs(\n          title    = glue(\"Split: {split$id}\"),\n          subtitle = glue(\"{train_time_summary$start} to \", \n                          \"{test_time_summary$end}\"),\n            y = \"\", x = \"\"\n        ) +\n        theme(legend.position = \"none\") \n    \n    if (expand_y_axis) {\n        \n        sun_spots_time_summary <- sun_spots %>% \n            tk_index() %>% \n            tk_get_timeseries_summary()\n        \n        g <- g +\n            scale_x_date(limits = c(sun_spots_time_summary$start, \n                                    sun_spots_time_summary$end))\n    }\n    \n    g\n}",
      "execution_count": null,
      "outputs": []
    },
    {
      "metadata": {
        "trusted": true,
        "scrolled": false,
        "_uuid": "6407dc5eaeb2aeb80e35f342e8753010e0eb7b01"
      },
      "cell_type": "code",
      "source": "rolling_origin_resamples$splits[[1]] %>%\n    plot_split(expand_y_axis = TRUE) +\n    theme(legend.position = \"bottom\")",
      "execution_count": null,
      "outputs": []
    },
    {
      "metadata": {
        "trusted": true,
        "_uuid": "bbfacd54e4dfdff548a3c5e5cf12f81f78a61827"
      },
      "cell_type": "code",
      "source": "# Plotting function that scales to all splits \nplot_sampling_plan <- function(sampling_tbl, expand_y_axis = TRUE, \n                               ncol = 3, alpha = 1, size = 1, base_size = 14, \n                               title = \"Sampling Plan\") {\n    \n    # Map plot_split() to sampling_tbl\n    sampling_tbl_with_plots <- sampling_tbl %>%\n        mutate(gg_plots = map(splits, plot_split, \n                              expand_y_axis = expand_y_axis,\n                              alpha = alpha, base_size = base_size))\n    \n    # Make plots with cowplot\n    plot_list <- sampling_tbl_with_plots$gg_plots \n    \n    p_temp <- plot_list[[1]] + theme(legend.position = \"bottom\")\n    legend <- get_legend(p_temp)\n    \n    p_body  <- plot_grid(plotlist = plot_list, ncol = ncol)\n    \n    p_title <- ggdraw() + \n        draw_label(title, size = 14, fontface = \"bold\", \n                   colour = palette_light()[[1]])\n    \n    g <- plot_grid(p_title, p_body, legend, ncol = 1, \n                   rel_heights = c(0.05, 1, 0.05))\n    \n    g\n    \n}",
      "execution_count": null,
      "outputs": []
    },
    {
      "metadata": {
        "trusted": true,
        "_uuid": "db58c35fc6b81ba1d69b1db7f6f33dbb3317649d"
      },
      "cell_type": "code",
      "source": "rolling_origin_resamples %>%\n    plot_sampling_plan(expand_y_axis = T, ncol = 3, alpha = 1, size = 1, base_size = 10, \n                       title = \"Backtesting Strategy: Rolling Origin Sampling Plan\")",
      "execution_count": null,
      "outputs": []
    },
    {
      "metadata": {
        "trusted": true,
        "_uuid": "34e72c84d099e1fd66f37b31eaad4c8074ce9fcf"
      },
      "cell_type": "code",
      "source": "rolling_origin_resamples %>%\n    plot_sampling_plan(expand_y_axis = F, ncol = 3, alpha = 1, size = 1, base_size = 10, \n                       title = \"Backtesting Strategy: Zoomed In\")",
      "execution_count": null,
      "outputs": []
    },
    {
      "metadata": {
        "trusted": true,
        "_uuid": "b009ecd187194ccfd30c8db25687eb003879f502"
      },
      "cell_type": "code",
      "source": "",
      "execution_count": null,
      "outputs": []
    }
  ],
  "metadata": {
    "kernelspec": {
      "display_name": "R",
      "language": "R",
      "name": "ir"
    },
    "language_info": {
      "mimetype": "text/x-r-source",
      "name": "R",
      "pygments_lexer": "r",
      "version": "3.4.2",
      "file_extension": ".r",
      "codemirror_mode": "r"
    }
  },
  "nbformat": 4,
  "nbformat_minor": 1
}