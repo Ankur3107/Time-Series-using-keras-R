{
  "cells": [
    {
      "metadata": {
        "_uuid": "8f2839f25d086af736a60e9eeb907d3b93b6e0e5",
        "_cell_guid": "b1076dfc-b9ad-4769-8c92-a6c4dae69d19",
        "trusted": true
      },
      "cell_type": "code",
      "source": "# Core Tidyverse\nlibrary(tidyverse)\nlibrary(glue)\nlibrary(forcats)\nlibrary(rlang)\n\n# Time Series\nlibrary(timetk)\nlibrary(tidyquant)\nlibrary(tibbletime)\n\n# Visualization\nlibrary(cowplot)\n\n# Preprocessing\nlibrary(recipes)\n\n# Sampling / Accuracy\nlibrary(rsample)\nlibrary(yardstick) \n\n# Modeling\nlibrary(keras)\nlibrary(tfruns)",
      "execution_count": null,
      "outputs": []
    },
    {
      "metadata": {
        "_cell_guid": "79c7e3d0-c299-4dcb-8224-4455121ee9b0",
        "_uuid": "d629ff2d2480ee46fbb7e2d37f6b5fab8052498a",
        "trusted": true
      },
      "cell_type": "code",
      "source": "sun_spots <- datasets::sunspot.month %>%\n    tk_tbl() %>%\n    mutate(index = as_date(index)) %>%\n    as_tbl_time(index = index)\n\nsun_spots %>% head(10)",
      "execution_count": null,
      "outputs": []
    },
    {
      "metadata": {
        "trusted": true,
        "_uuid": "81677b770bf8e29438128db6241b13bb38adf891"
      },
      "cell_type": "code",
      "source": "p1 <- sun_spots %>%\n    ggplot(aes(index, value)) +\n    geom_point(color = palette_light()[[1]], alpha = 0.5) +\n    theme_tq() +\n    labs(\n        title = \"From 1749 to 2013 (Full Data Set)\"\n    )\n\np2 <- sun_spots %>%\n    filter_time(\"start\" ~ \"1800\") %>%\n    ggplot(aes(index, value)) +\n    geom_line(color = palette_light()[[1]], alpha = 0.5) +\n    geom_point(color = palette_light()[[1]]) +\n    geom_smooth(method = \"loess\", span = 0.2, se = FALSE) +\n    theme_tq() +\n    labs(\n        title = \"1749 to 1759 (Zoomed In To Show Changes over the Year)\",\n        caption = \"datasets::sunspot.month\"\n    )\n\np_title <- ggdraw() + \n  draw_label(\"Sunspots\", size = 18, fontface = \"bold\", \n             colour = palette_light()[[1]])",
      "execution_count": null,
      "outputs": []
    },
    {
      "metadata": {
        "trusted": true,
        "_uuid": "ba21d18bb99562b5618ce5c22eabec6dba746c70"
      },
      "cell_type": "code",
      "source": "plot_grid(p_title, p1, p2, ncol = 1, rel_heights = c(0.1, 1, 1))",
      "execution_count": null,
      "outputs": []
    },
    {
      "metadata": {
        "trusted": true,
        "_uuid": "f1ef2081045b028f54d8075ee7863384bc78aa35"
      },
      "cell_type": "code",
      "source": "periods_train <- 12 * 100\nperiods_test  <- 12 * 50\nskip_span     <- 12 * 22 - 1\n\nrolling_origin_resamples <- rolling_origin(\n  sun_spots,\n  initial    = periods_train,\n  assess     = periods_test,\n  cumulative = FALSE,\n  skip       = skip_span\n)\n\ndim(rolling_origin_resamples)",
      "execution_count": null,
      "outputs": []
    },
    {
      "metadata": {
        "trusted": true,
        "_uuid": "65dfed212b48f9fa51f2a1e0aebba2ffa1285d46"
      },
      "cell_type": "code",
      "source": "# Plotting function for a single split\nplot_split <- function(split, expand_y_axis = TRUE, \n                       alpha = 1, size = 1, base_size = 14) {\n    \n    # Manipulate data\n    train_tbl <- training(split) %>%\n        add_column(key = \"training\")\n    \n    #print(head(train_tbl))\n    \n    test_tbl  <- testing(split) %>%\n        add_column(key = \"testing\")\n    \n    #print(head(test_tbl))\n    \n    data_manipulated <- bind_rows(train_tbl, test_tbl) %>%\n        as_tbl_time(index = index) %>%\n        mutate(key = fct_relevel(key, \"training\", \"testing\"))\n      \n    #print(head(data_manipulated))\n    \n    # Collect attributes\n    train_time_summary <- train_tbl %>%\n        tk_index() %>%\n        tk_get_timeseries_summary()\n    \n    #print(head(train_time_summary))\n    \n    test_time_summary <- test_tbl %>%\n        tk_index() %>%\n        tk_get_timeseries_summary()\n    \n    #print(head(test_time_summary))\n    \n    # Visualize\n    g <- data_manipulated %>%\n        ggplot(aes(x = index, y = value, color = key)) +\n        geom_line(size = size, alpha = alpha) +\n        theme_tq(base_size = base_size) +\n        scale_color_tq() +\n        labs(\n          title    = glue(\"Split: {split$id}\"),\n          subtitle = glue(\"{train_time_summary$start} to \", \n                          \"{test_time_summary$end}\"),\n            y = \"\", x = \"\"\n        ) +\n        theme(legend.position = \"none\") \n    \n    if (expand_y_axis) {\n        \n        sun_spots_time_summary <- sun_spots %>% \n            tk_index() %>% \n            tk_get_timeseries_summary()\n        \n        g <- g +\n            scale_x_date(limits = c(sun_spots_time_summary$start, \n                                    sun_spots_time_summary$end))\n    }\n    \n    g\n}",
      "execution_count": null,
      "outputs": []
    },
    {
      "metadata": {
        "trusted": true,
        "scrolled": false,
        "_uuid": "be4d6718e92e5c4d20bdcf4db57f0b182da842d7"
      },
      "cell_type": "code",
      "source": "rolling_origin_resamples$splits[[1]] %>%\n    plot_split(expand_y_axis = TRUE) +\n    theme(legend.position = \"bottom\")",
      "execution_count": null,
      "outputs": []
    },
    {
      "metadata": {
        "trusted": true,
        "_uuid": "65bfa1af34b0bd8131c32ecab2f393146347f20a"
      },
      "cell_type": "code",
      "source": "# Plotting function that scales to all splits \nplot_sampling_plan <- function(sampling_tbl, expand_y_axis = TRUE, \n                               ncol = 3, alpha = 1, size = 1, base_size = 14, \n                               title = \"Sampling Plan\") {\n    \n    # Map plot_split() to sampling_tbl\n    sampling_tbl_with_plots <- sampling_tbl %>%\n        mutate(gg_plots = map(splits, plot_split, \n                              expand_y_axis = expand_y_axis,\n                              alpha = alpha, base_size = base_size))\n    \n    # Make plots with cowplot\n    plot_list <- sampling_tbl_with_plots$gg_plots \n    \n    p_temp <- plot_list[[1]] + theme(legend.position = \"bottom\")\n    legend <- get_legend(p_temp)\n    \n    p_body  <- plot_grid(plotlist = plot_list, ncol = ncol)\n    \n    p_title <- ggdraw() + \n        draw_label(title, size = 14, fontface = \"bold\", \n                   colour = palette_light()[[1]])\n    \n    g <- plot_grid(p_title, p_body, legend, ncol = 1, \n                   rel_heights = c(0.05, 1, 0.05))\n    \n    g\n    \n}",
      "execution_count": null,
      "outputs": []
    },
    {
      "metadata": {
        "trusted": true,
        "_uuid": "404eb621323a7fdc5811dd8481e7413cee5721fb"
      },
      "cell_type": "code",
      "source": "rolling_origin_resamples %>%\n    plot_sampling_plan(expand_y_axis = T, ncol = 3, alpha = 1, size = 1, base_size = 10, \n                       title = \"Backtesting Strategy: Rolling Origin Sampling Plan\")",
      "execution_count": null,
      "outputs": []
    },
    {
      "metadata": {
        "trusted": true,
        "_uuid": "afa08c62191d5d821d7b7009bdd78a5415774391"
      },
      "cell_type": "code",
      "source": "rolling_origin_resamples %>%\n    plot_sampling_plan(expand_y_axis = F, ncol = 3, alpha = 1, size = 1, base_size = 10, \n                       title = \"Backtesting Strategy: Zoomed In\")",
      "execution_count": null,
      "outputs": []
    },
    {
      "metadata": {
        "_uuid": "f0f4b6028e45cfcfdb9b56c04a08261f05fd2d16"
      },
      "cell_type": "markdown",
      "source": "# LSTM model"
    },
    {
      "metadata": {
        "trusted": true,
        "_uuid": "97d03622d3223f842af93cd924cc7db7c516a909"
      },
      "cell_type": "code",
      "source": "example_split    <- rolling_origin_resamples$splits[[6]]\nexample_split_id <- rolling_origin_resamples$id[[6]]",
      "execution_count": null,
      "outputs": []
    },
    {
      "metadata": {
        "trusted": true,
        "_uuid": "00abe38a4d473979c59814dc842afcb61418bea2"
      },
      "cell_type": "code",
      "source": "plot_split(example_split, expand_y_axis = FALSE, size = 0.5) +\n    theme(legend.position = \"bottom\") +\n    ggtitle(glue(\"Split: {example_split_id}\"))",
      "execution_count": null,
      "outputs": []
    },
    {
      "metadata": {
        "trusted": true,
        "_uuid": "93ba3cc0d61a8ba138b3635d797effd2f5e286b8"
      },
      "cell_type": "code",
      "source": "df_trn <- analysis(example_split)[1:800, , drop = FALSE]\ndf_val <- analysis(example_split)[801:1200, , drop = FALSE]\ndf_tst <- assessment(example_split)",
      "execution_count": null,
      "outputs": []
    },
    {
      "metadata": {
        "trusted": true,
        "_uuid": "720d700343d52676c9c2ac7fad1720b10a2d8a3e"
      },
      "cell_type": "code",
      "source": "head(df_val)",
      "execution_count": null,
      "outputs": []
    },
    {
      "metadata": {
        "trusted": true,
        "_uuid": "10e7a84c4c39f334d5d7dcb77f6a4bc748b03d97"
      },
      "cell_type": "code",
      "source": "df <- bind_rows(\n  df_trn %>% add_column(key = \"training\"),\n  df_val %>% add_column(key = \"validation\"),\n  df_tst %>% add_column(key = \"testing\")\n) %>%\n  as_tbl_time(index = index)\n\nhead(df)",
      "execution_count": null,
      "outputs": []
    },
    {
      "metadata": {
        "trusted": true,
        "_uuid": "8157a5d64a3bd8932a60a2bb1b404182e42cfd11"
      },
      "cell_type": "code",
      "source": "rec_obj <- recipe(value ~ ., df) %>%\n    step_sqrt(value) %>%\n    step_center(value) %>%\n    step_scale(value) %>%\n    prep()\n\ndf_processed_tbl <- bake(rec_obj, df)\n\nhead(df_processed_tbl)",
      "execution_count": null,
      "outputs": []
    },
    {
      "metadata": {
        "trusted": true,
        "_uuid": "f80ba3cf03357a5d6221f713280f8a65f4bcdc4f"
      },
      "cell_type": "code",
      "source": "center_history <- rec_obj$steps[[2]]$means[\"value\"]\nscale_history  <- rec_obj$steps[[3]]$sds[\"value\"]\n\nc(\"center\" = center_history, \"scale\" = scale_history)",
      "execution_count": null,
      "outputs": []
    },
    {
      "metadata": {
        "trusted": true,
        "_uuid": "6979761506971544430a4bb7f668a3b5ed832995"
      },
      "cell_type": "code",
      "source": "n_timesteps <- 12\nn_predictions <- n_timesteps\nbatch_size <- 10",
      "execution_count": null,
      "outputs": []
    },
    {
      "metadata": {
        "trusted": true,
        "_uuid": "d35d8ce39ae33ddf1845c00a3a163702eadcf1c4"
      },
      "cell_type": "code",
      "source": "# functions used\nbuild_matrix <- function(tseries, overall_timesteps) {\n  t(sapply(1:(length(tseries) - overall_timesteps + 1), function(x) \n    tseries[x:(x + overall_timesteps - 1)]))\n}\n\nreshape_X_3d <- function(X) {\n  dim(X) <- c(dim(X)[1], dim(X)[2], 1)\n  X\n}",
      "execution_count": null,
      "outputs": []
    },
    {
      "metadata": {
        "trusted": true,
        "_uuid": "3e52aeb305aec4bb1bc8b8571bd8f2a8595edfd9"
      },
      "cell_type": "code",
      "source": "# extract values from data frame\ntrain_vals <- df_processed_tbl %>%\n  filter(key == \"training\") %>%\n  select(value) %>%\n  pull()\nvalid_vals <- df_processed_tbl %>%\n  filter(key == \"validation\") %>%\n  select(value) %>%\n  pull()\ntest_vals <- df_processed_tbl %>%\n  filter(key == \"testing\") %>%\n  select(value) %>%\n  pull()",
      "execution_count": null,
      "outputs": []
    },
    {
      "metadata": {
        "trusted": true,
        "_uuid": "e5edbd37d609410612566009c301e46e346122f5"
      },
      "cell_type": "code",
      "source": "# build the windowed matrices\ntrain_matrix <- build_matrix(train_vals, n_timesteps + n_predictions)\nvalid_matrix <- build_matrix(valid_vals, n_timesteps + n_predictions)\ntest_matrix <- build_matrix(test_vals, n_timesteps + n_predictions)",
      "execution_count": null,
      "outputs": []
    },
    {
      "metadata": {
        "trusted": true,
        "_uuid": "1771e43021a0f5b15a79ef6fd3b38e67327b2be4"
      },
      "cell_type": "code",
      "source": "dim(train_matrix)\ndim(valid_matrix)\ndim(test_matrix)",
      "execution_count": null,
      "outputs": []
    },
    {
      "metadata": {
        "trusted": true,
        "_uuid": "e32ee891b561823bb50edba86db06f8438355d75"
      },
      "cell_type": "code",
      "source": "X_train <- train_matrix[, 1:n_timesteps]\ny_train <- train_matrix[, (n_timesteps + 1):(n_timesteps * 2)]\nX_train <- X_train[1:(nrow(X_train) %/% batch_size * batch_size), ]\ny_train <- y_train[1:(nrow(y_train) %/% batch_size * batch_size), ]",
      "execution_count": null,
      "outputs": []
    },
    {
      "metadata": {
        "trusted": true,
        "_uuid": "2a450a0315f804db0553b9f9bd6a9b2ea1cd03a2"
      },
      "cell_type": "code",
      "source": "dim(X_train)\ndim(y_train)",
      "execution_count": null,
      "outputs": []
    },
    {
      "metadata": {
        "trusted": true,
        "_uuid": "c007a3234cab8f71ebb5038b68335b637a03e71d"
      },
      "cell_type": "code",
      "source": "X_valid <- valid_matrix[, 1:n_timesteps]\ny_valid <- valid_matrix[, (n_timesteps + 1):(n_timesteps * 2)]\nX_valid <- X_valid[1:(nrow(X_valid) %/% batch_size * batch_size), ]\ny_valid <- y_valid[1:(nrow(y_valid) %/% batch_size * batch_size), ]",
      "execution_count": null,
      "outputs": []
    },
    {
      "metadata": {
        "trusted": true,
        "_uuid": "734e999ba82e91a2f0a9f9d6ed4237bc5afb3b52"
      },
      "cell_type": "code",
      "source": "dim(X_valid)\ndim(y_valid)",
      "execution_count": null,
      "outputs": []
    },
    {
      "metadata": {
        "trusted": true,
        "_uuid": "a532c4e8070848cd5af8f322269ad777461ec321"
      },
      "cell_type": "code",
      "source": "X_test <- test_matrix[, 1:n_timesteps]\ny_test <- test_matrix[, (n_timesteps + 1):(n_timesteps * 2)]\nX_test <- X_test[1:(nrow(X_test) %/% batch_size * batch_size), ]\ny_test <- y_test[1:(nrow(y_test) %/% batch_size * batch_size), ]",
      "execution_count": null,
      "outputs": []
    },
    {
      "metadata": {
        "trusted": true,
        "_uuid": "72f66ec970311bfc5786c4d92de988020db8844e"
      },
      "cell_type": "code",
      "source": "dim(X_test)\ndim(y_test)",
      "execution_count": null,
      "outputs": []
    },
    {
      "metadata": {
        "trusted": true,
        "_uuid": "a53b2af98948e87ade6707a8d67c175a263ec459"
      },
      "cell_type": "code",
      "source": "# add on the required third axis\nX_train <- reshape_X_3d(X_train)\nX_valid <- reshape_X_3d(X_valid)\nX_test <- reshape_X_3d(X_test)\n\ny_train <- reshape_X_3d(y_train)\ny_valid <- reshape_X_3d(y_valid)\ny_test <- reshape_X_3d(y_test)",
      "execution_count": null,
      "outputs": []
    },
    {
      "metadata": {
        "trusted": true,
        "_uuid": "d403769e65a3e393dfaf034b57f7f7376ce4d14d"
      },
      "cell_type": "code",
      "source": "FLAGS <- flags(\n  # There is a so-called \"stateful LSTM\" in Keras. While LSTM is stateful\n  # per se, this adds a further tweak where the hidden states get \n  # initialized with values from the item at same position in the previous\n  # batch. This is helpful just under specific circumstances, or if you want\n  # to create an \"infinite stream\" of states, in which case you'd use 1 as \n  # the batch size. Below, we show how the code would have to be changed to\n  # use this, but it won't be further discussed here.\n  flag_boolean(\"stateful\", FALSE),\n  # Should we use several layers of LSTM?\n  # Again, just included for completeness, it did not yield any superior \n  # performance on this task.\n  # This will actually stack exactly one additional layer of LSTM units.\n  flag_boolean(\"stack_layers\", FALSE),\n  # number of samples fed to the model in one go\n  flag_integer(\"batch_size\", 10),\n  # size of the hidden state, equals size of predictions\n  flag_integer(\"n_timesteps\", 12),\n  # how many epochs to train for\n  flag_integer(\"n_epochs\", 100),\n  # fraction of the units to drop for the linear transformation of the inputs\n  flag_numeric(\"dropout\", 0.2),\n  # fraction of the units to drop for the linear transformation of the \n  # recurrent state\n  flag_numeric(\"recurrent_dropout\", 0.2),\n  # loss function. Found to work better for this specific case than mean\n  # squared error\n  flag_string(\"loss\", \"logcosh\"),\n  # optimizer = stochastic gradient descent. Seemed to work better than adam \n  # or rmsprop here (as indicated by limited testing)\n  flag_string(\"optimizer_type\", \"sgd\"),\n  # size of the LSTM layer\n  flag_integer(\"n_units\", 128),\n  # learning rate\n  flag_numeric(\"lr\", 0.003),\n  # momentum, an additional parameter to the SGD optimizer\n  flag_numeric(\"momentum\", 0.9),\n  # parameter to the early stopping callback\n  flag_integer(\"patience\", 10)\n)\n\n# the number of predictions we'll make equals the length of the hidden state\nn_predictions <- FLAGS$n_timesteps\n# how many features = predictors we have\nn_features <- 1\n# just in case we wanted to try different optimizers, we could add here\noptimizer <- switch(FLAGS$optimizer_type,\n                    sgd = optimizer_sgd(lr = FLAGS$lr, \n                                        momentum = FLAGS$momentum)\n                    )\n\n# callbacks to be passed to the fit() function\n# We just use one here: we may stop before n_epochs if the loss on the\n# validation set does not decrease (by a configurable amount, over a \n# configurable time)\ncallbacks <- list(\n  callback_early_stopping(patience = FLAGS$patience)\n)",
      "execution_count": null,
      "outputs": []
    },
    {
      "metadata": {
        "trusted": true,
        "_uuid": "5b60c64117c6fe1ae4885a9778b92c689f6c9db1"
      },
      "cell_type": "code",
      "source": "# create the model\nmodel <- keras_model_sequential()\n\n# add layers\n# we have just two, the LSTM and the time_distributed \nmodel %>%\n  layer_lstm(\n    units = FLAGS$n_units, \n    # the first layer in a model needs to know the shape of the input data\n    batch_input_shape  = c(FLAGS$batch_size, FLAGS$n_timesteps, n_features),\n    dropout = FLAGS$dropout,\n    recurrent_dropout = FLAGS$recurrent_dropout,\n    # by default, an LSTM just returns the final state\n    return_sequences = TRUE\n  ) %>% time_distributed(layer_dense(units = 1))\n\nmodel %>%\n  compile(\n    loss = FLAGS$loss,\n    optimizer = optimizer,\n    # in addition to the loss, Keras will inform us about current \n    # MSE while training\n    metrics = list(\"mean_squared_error\")\n  )",
      "execution_count": null,
      "outputs": []
    },
    {
      "metadata": {
        "trusted": true,
        "_uuid": "e276184d06f2b185c67b5cb0ff3a199640482e5c"
      },
      "cell_type": "code",
      "source": "dim(X_train)",
      "execution_count": null,
      "outputs": []
    },
    {
      "metadata": {
        "trusted": true,
        "_uuid": "bba984aacdf16502896998cf1bdf31364dd86d7f"
      },
      "cell_type": "code",
      "source": "history <- model %>% fit(\n  x          = X_train,\n  y          = y_train,\n  validation_data = list(X_valid, y_valid),\n  batch_size = FLAGS$batch_size,\n  epochs     = FLAGS$n_epochs,\n  callbacks = callbacks\n)",
      "execution_count": null,
      "outputs": []
    },
    {
      "metadata": {
        "trusted": true,
        "_uuid": "6c514616073f6f3865c67db3e3215ab66ae6cb66"
      },
      "cell_type": "code",
      "source": "plot(history, metrics = \"loss\")",
      "execution_count": null,
      "outputs": []
    },
    {
      "metadata": {
        "trusted": true,
        "_uuid": "3bec52ccef7143609c75e5094c2354a7fbaf6975"
      },
      "cell_type": "code",
      "source": "pred_train <- model %>%\n  predict(X_train, batch_size = FLAGS$batch_size) %>%\n  .[, , 1]\n\n# Retransform values to original scale\npred_train <- (pred_train * scale_history + center_history) ^2\ncompare_train <- df %>% filter(key == \"training\")\n\n# build a dataframe that has both actual and predicted values\nfor (i in 1:nrow(pred_train)) {\n  varname <- paste0(\"pred_train\", i)\n  compare_train <-\n    mutate(compare_train,!!varname := c(\n      rep(NA, FLAGS$n_timesteps + i - 1),\n      pred_train[i,],\n      rep(NA, nrow(compare_train) - FLAGS$n_timesteps * 2 - i + 1)\n    ))\n}",
      "execution_count": null,
      "outputs": []
    },
    {
      "metadata": {
        "trusted": true,
        "_uuid": "4696cb5f21748c0a7898d0c46d4fd9e2e5e90cb6"
      },
      "cell_type": "code",
      "source": "coln <- colnames(compare_train)[4:ncol(compare_train)]\ncols <- map(coln, quo(sym(.)))\nrsme_train <-\n  map_dbl(cols, function(col)\n    rmse(\n      compare_train,\n      truth = value,\n      estimate = !!col,\n      na.rm = TRUE\n    )) %>% mean()\n\nrsme_train",
      "execution_count": null,
      "outputs": []
    },
    {
      "metadata": {
        "trusted": true,
        "_uuid": "7becdcbf63a5e516f566a958761b81052b447729"
      },
      "cell_type": "code",
      "source": "ggplot(compare_train, aes(x = index, y = value)) + geom_line() +\n  geom_line(aes(y = pred_train1), color = \"cyan\") +\n  geom_line(aes(y = pred_train50), color = \"red\") +\n  geom_line(aes(y = pred_train100), color = \"green\") +\n  geom_line(aes(y = pred_train150), color = \"violet\") +\n  geom_line(aes(y = pred_train200), color = \"cyan\") +\n  geom_line(aes(y = pred_train250), color = \"red\") +\n  geom_line(aes(y = pred_train300), color = \"red\") +\n  geom_line(aes(y = pred_train350), color = \"green\") +\n  geom_line(aes(y = pred_train400), color = \"cyan\") +\n  geom_line(aes(y = pred_train450), color = \"red\") +\n  geom_line(aes(y = pred_train500), color = \"green\") +\n  geom_line(aes(y = pred_train550), color = \"violet\") +\n  geom_line(aes(y = pred_train600), color = \"cyan\") +\n  geom_line(aes(y = pred_train650), color = \"red\") +\n  geom_line(aes(y = pred_train700), color = \"red\") +\n  geom_line(aes(y = pred_train750), color = \"green\") +\n  ggtitle(\"Predictions on the training set\")",
      "execution_count": null,
      "outputs": []
    },
    {
      "metadata": {
        "trusted": true,
        "_uuid": "df2085534abb0688a6cef337ea5360f980079959"
      },
      "cell_type": "code",
      "source": "",
      "execution_count": null,
      "outputs": []
    }
  ],
  "metadata": {
    "kernelspec": {
      "display_name": "R",
      "language": "R",
      "name": "ir"
    },
    "language_info": {
      "mimetype": "text/x-r-source",
      "name": "R",
      "pygments_lexer": "r",
      "version": "3.4.2",
      "file_extension": ".r",
      "codemirror_mode": "r"
    }
  },
  "nbformat": 4,
  "nbformat_minor": 1
}