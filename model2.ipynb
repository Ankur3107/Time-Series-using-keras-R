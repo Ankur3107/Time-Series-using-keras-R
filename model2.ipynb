{
  "cells": [
    {
      "metadata": {
        "_uuid": "ccf5270d38248ff1981500699af9f8bd5a2b4452",
        "_execution_state": "idle",
        "trusted": true
      },
      "cell_type": "code",
      "source": "# Core Tidyverse\nlibrary(tidyverse)\nlibrary(glue)\nlibrary(forcats)\nlibrary(rlang)\n\n# Time Series\nlibrary(timetk)\nlibrary(tidyquant)\nlibrary(tibbletime)\n\n# Visualization\nlibrary(cowplot)\n\n# Preprocessing\nlibrary(recipes)\n\n# Sampling / Accuracy\nlibrary(rsample)\nlibrary(yardstick) \n\n# Modeling\nlibrary(keras)\nlibrary(tfruns)",
      "execution_count": null,
      "outputs": []
    },
    {
      "metadata": {
        "trusted": true,
        "_uuid": "1e89825a3080bdc8ebe960b6b6fc2b6c5f1dcb5e"
      },
      "cell_type": "code",
      "source": "us_data <- read.csv(\"../input/candy_production.csv\",stringsAsFactors=FALSE)",
      "execution_count": null,
      "outputs": []
    },
    {
      "metadata": {
        "trusted": true,
        "_uuid": "8bdc04b97125b0a4f577e4d47c146d641d3e51c5"
      },
      "cell_type": "code",
      "source": "str(us_data)",
      "execution_count": null,
      "outputs": []
    },
    {
      "metadata": {
        "trusted": true,
        "_uuid": "b1bb7177b902ad30aba83a863e60059c59c4e98c"
      },
      "cell_type": "code",
      "source": "sun_spots <- us_data %>%\n    tk_tbl() %>%\n    mutate(index = as_date(observation_date), value = IPG3113N) %>% \n    select(index, value) %>%\n    as_tbl_time(index = index)\n\nsun_spots %>% head(10)",
      "execution_count": null,
      "outputs": []
    },
    {
      "metadata": {
        "trusted": true,
        "_uuid": "ce658da2e08bafdb76dfafa6cebd8a46537f1ebf"
      },
      "cell_type": "code",
      "source": "p1 <- sun_spots %>%\n    ggplot(aes(index, value)) +\n    geom_point(color = palette_light()[[1]], alpha = 0.5) +\n    theme_tq() +\n    labs(\n        title = \"From 1972 to 2017 (Full Data Set)\"\n    )\n\np2 <- sun_spots %>%\n    filter_time(\"start\" ~ \"1980\") %>%\n    ggplot(aes(index, value)) +\n    geom_line(color = palette_light()[[1]], alpha = 0.5) +\n    geom_point(color = palette_light()[[1]]) +\n    geom_smooth(method = \"loess\", span = 0.2, se = FALSE) +\n    theme_tq() +\n    labs(\n        title = \"1972 to 1980 (Zoomed In To Show Changes over the Year)\",\n        caption = \"datasets::candy production\"\n    )\n\np_title <- ggdraw() + \n  draw_label(\"Candy Production\", size = 18, fontface = \"bold\", \n             colour = palette_light()[[1]])",
      "execution_count": null,
      "outputs": []
    },
    {
      "metadata": {
        "trusted": true,
        "_uuid": "1f5138cc4ada4a8633b20c34a2b3b0e7d073fac0"
      },
      "cell_type": "code",
      "source": "plot_grid(p_title, p1, p2, ncol = 1, rel_heights = c(0.1, 1, 1))",
      "execution_count": null,
      "outputs": []
    },
    {
      "metadata": {
        "trusted": true,
        "_uuid": "ab1f4dcdebdfa984485b444cd29f4224bc630e82"
      },
      "cell_type": "code",
      "source": "periods_train <- 12 * 10\nperiods_test  <- 12 * 5\nskip_span     <- 12 * 5-1\n\nrolling_origin_resamples <- rolling_origin(\n  sun_spots,\n  initial    = periods_train,\n  assess     = periods_test,\n  cumulative = FALSE,\n  skip       = skip_span\n)\n\n#rolling_origin_resamples",
      "execution_count": null,
      "outputs": []
    },
    {
      "metadata": {
        "trusted": true,
        "_uuid": "c2876a7f65d7ca5adca1554f1657f90dceb828a8"
      },
      "cell_type": "code",
      "source": "# Plotting function for a single split\nplot_split <- function(split, expand_y_axis = TRUE, \n                       alpha = 1, size = 1, base_size = 14) {\n    \n    # Manipulate data\n    train_tbl <- training(split) %>%\n        add_column(key = \"training\") \n    \n    test_tbl  <- testing(split) %>%\n        add_column(key = \"testing\") \n    \n    data_manipulated <- bind_rows(train_tbl, test_tbl) %>%\n        as_tbl_time(index = index) %>%\n        mutate(key = fct_relevel(key, \"training\", \"testing\"))\n        \n    # Collect attributes\n    train_time_summary <- train_tbl %>%\n        tk_index() %>%\n        tk_get_timeseries_summary()\n    \n    test_time_summary <- test_tbl %>%\n        tk_index() %>%\n        tk_get_timeseries_summary()\n    \n    # Visualize\n    g <- data_manipulated %>%\n        ggplot(aes(x = index, y = value, color = key)) +\n        geom_line(size = size, alpha = alpha) +\n        theme_tq(base_size = base_size) +\n        scale_color_tq() +\n        labs(\n          title    = glue(\"Split: {split$id}\"),\n          subtitle = glue(\"{train_time_summary$start} to \", \n                          \"{test_time_summary$end}\"),\n            y = \"\", x = \"\"\n        ) +\n        theme(legend.position = \"none\") \n    \n    if (expand_y_axis) {\n        \n        sun_spots_time_summary <- sun_spots %>% \n            tk_index() %>% \n            tk_get_timeseries_summary()\n        \n        g <- g +\n            scale_x_date(limits = c(sun_spots_time_summary$start, \n                                    sun_spots_time_summary$end))\n    }\n    \n    g\n}",
      "execution_count": null,
      "outputs": []
    },
    {
      "metadata": {
        "trusted": true,
        "_uuid": "12a4bb026b238da3df5c9290686f9812e6c3f25f"
      },
      "cell_type": "code",
      "source": "rolling_origin_resamples$splits[[1]] %>%\n    plot_split(expand_y_axis = TRUE) +\n    theme(legend.position = \"bottom\")",
      "execution_count": null,
      "outputs": []
    },
    {
      "metadata": {
        "trusted": true,
        "_uuid": "9378d68381393b0794519a6134683390d0393619"
      },
      "cell_type": "code",
      "source": "# Plotting function that scales to all splits \nplot_sampling_plan <- function(sampling_tbl, expand_y_axis = TRUE, \n                               ncol = 3, alpha = 1, size = 1, base_size = 14, \n                               title = \"Sampling Plan\") {\n    \n    # Map plot_split() to sampling_tbl\n    sampling_tbl_with_plots <- sampling_tbl %>%\n        mutate(gg_plots = map(splits, plot_split, \n                              expand_y_axis = expand_y_axis,\n                              alpha = alpha, base_size = base_size))\n    \n    # Make plots with cowplot\n    plot_list <- sampling_tbl_with_plots$gg_plots \n    \n    p_temp <- plot_list[[1]] + theme(legend.position = \"bottom\")\n    legend <- get_legend(p_temp)\n    \n    p_body  <- plot_grid(plotlist = plot_list, ncol = ncol)\n    \n    p_title <- ggdraw() + \n        draw_label(title, size = 14, fontface = \"bold\", \n                   colour = palette_light()[[1]])\n    \n    g <- plot_grid(p_title, p_body, legend, ncol = 1, \n                   rel_heights = c(0.05, 1, 0.05))\n    \n    g\n    \n}",
      "execution_count": null,
      "outputs": []
    },
    {
      "metadata": {
        "trusted": true,
        "_uuid": "a90c1398a88a06b3956fc312700d786af430870d"
      },
      "cell_type": "code",
      "source": "rolling_origin_resamples %>%\n    plot_sampling_plan(expand_y_axis = T, ncol = 3, alpha = 1, size = 1, base_size = 10, \n                       title = \"Backtesting Strategy: Rolling Origin Sampling Plan\")",
      "execution_count": null,
      "outputs": []
    },
    {
      "metadata": {
        "trusted": true,
        "_uuid": "7a623e994e6e5ca4e7d775f9aab6ed8c32db123f"
      },
      "cell_type": "code",
      "source": "rolling_origin_resamples %>%\n    plot_sampling_plan(expand_y_axis = F, ncol = 3, alpha = 1, size = 1, base_size = 10, \n                       title = \"Backtesting Strategy: Zoomed In\")",
      "execution_count": null,
      "outputs": []
    },
    {
      "metadata": {
        "trusted": true,
        "_uuid": "dbe896ed243df34a3c030bbc71f846f33a4d0e38"
      },
      "cell_type": "code",
      "source": "example_split    <- rolling_origin_resamples$splits[[6]]\nexample_split_id <- rolling_origin_resamples$id[[6]]",
      "execution_count": null,
      "outputs": []
    },
    {
      "metadata": {
        "trusted": true,
        "_uuid": "9915ce60fd2a93bd09af9b333479e62c5b20bf5f"
      },
      "cell_type": "code",
      "source": "plot_split(example_split, expand_y_axis = FALSE, size = 0.5) +\n    theme(legend.position = \"bottom\") +\n    ggtitle(glue(\"Split: {example_split_id}\"))",
      "execution_count": null,
      "outputs": []
    },
    {
      "metadata": {
        "trusted": true,
        "_uuid": "961ca143afeaf17926e2260b89263c46aed8b4c1"
      },
      "cell_type": "code",
      "source": "df_trn <- analysis(example_split)[1:90, , drop = FALSE]\ndf_val <- analysis(example_split)[91:120, , drop = FALSE]\ndf_tst <- assessment(example_split)",
      "execution_count": null,
      "outputs": []
    },
    {
      "metadata": {
        "trusted": true,
        "_uuid": "cb66c6ab88dcd0a9a23c06b3f33ffd598d956075"
      },
      "cell_type": "code",
      "source": "df <- bind_rows(\n  df_trn %>% add_column(key = \"training\"),\n  df_val %>% add_column(key = \"validation\"),\n  df_tst %>% add_column(key = \"testing\")\n) %>%\n  as_tbl_time(index = index)",
      "execution_count": null,
      "outputs": []
    },
    {
      "metadata": {
        "trusted": true,
        "_uuid": "c9b578d2e2714b4cb03595dd878577a60eeada06"
      },
      "cell_type": "code",
      "source": "rec_obj <- recipe(value ~ ., df) %>%\n    step_sqrt(value) %>%\n    step_center(value) %>%\n    step_scale(value) %>%\n    prep()\n\ndf_processed_tbl <- bake(rec_obj, df)",
      "execution_count": null,
      "outputs": []
    },
    {
      "metadata": {
        "trusted": true,
        "_uuid": "0ceb06e38fb00826a5576fec8ad13238e2e302d0"
      },
      "cell_type": "code",
      "source": "center_history <- rec_obj$steps[[2]]$means[\"value\"]\nscale_history  <- rec_obj$steps[[3]]$sds[\"value\"]\nc(\"center\" = center_history, \"scale\" = scale_history)",
      "execution_count": null,
      "outputs": []
    },
    {
      "metadata": {
        "trusted": true,
        "_uuid": "e5a7aa3c261bb3e0ba2448aa0a5e92d528672e3d"
      },
      "cell_type": "code",
      "source": "n_timesteps <- 12\nn_predictions <- n_timesteps\nbatch_size <- 5",
      "execution_count": null,
      "outputs": []
    },
    {
      "metadata": {
        "trusted": true,
        "_uuid": "f0fc52db376aad84d7991beca6a4edd0260e6acd"
      },
      "cell_type": "code",
      "source": "# functions used\nbuild_matrix <- function(tseries, overall_timesteps) {\n  t(sapply(1:(length(tseries) - overall_timesteps + 1), function(x) \n    tseries[x:(x + overall_timesteps - 1)]))\n}\n\nreshape_X_3d <- function(X) {\n  dim(X) <- c(dim(X)[1], dim(X)[2], 1)\n  X\n}",
      "execution_count": null,
      "outputs": []
    },
    {
      "metadata": {
        "trusted": true,
        "_uuid": "7b76aef62297b26fccb8d5f97fa94e5ffb96f1f5"
      },
      "cell_type": "code",
      "source": "# extract values from data frame\ntrain_vals <- df_processed_tbl %>%\n  filter(key == \"training\") %>%\n  select(value) %>%\n  pull()\nvalid_vals <- df_processed_tbl %>%\n  filter(key == \"validation\") %>%\n  select(value) %>%\n  pull()\ntest_vals <- df_processed_tbl %>%\n  filter(key == \"testing\") %>%\n  select(value) %>%\n  pull()",
      "execution_count": null,
      "outputs": []
    },
    {
      "metadata": {
        "trusted": true,
        "_uuid": "f2f7e2b6f17c7a80dde979a23b1ceb53da913be3"
      },
      "cell_type": "code",
      "source": "# build the windowed matrices\ntrain_matrix <- build_matrix(train_vals, n_timesteps + n_predictions)\nvalid_matrix <- build_matrix(valid_vals, n_timesteps + n_predictions)\ntest_matrix <- build_matrix(test_vals, n_timesteps + n_predictions)",
      "execution_count": null,
      "outputs": []
    },
    {
      "metadata": {
        "trusted": true,
        "_uuid": "e0205c31fb20f36d00f3bd5692b0b5d20b9cdc61"
      },
      "cell_type": "code",
      "source": "dim(train_matrix)\ndim(valid_matrix)\ndim(test_matrix)",
      "execution_count": null,
      "outputs": []
    },
    {
      "metadata": {
        "trusted": true,
        "_uuid": "53df70137ee6b0a826935c740c5bf1fc49f81d72"
      },
      "cell_type": "code",
      "source": "X_train <- train_matrix[, 1:n_timesteps]\ny_train <- train_matrix[, (n_timesteps + 1):(n_timesteps * 2)]\nX_train <- X_train[1:(nrow(X_train) %/% batch_size * batch_size), ]\ny_train <- y_train[1:(nrow(y_train) %/% batch_size * batch_size), ]",
      "execution_count": null,
      "outputs": []
    },
    {
      "metadata": {
        "trusted": true,
        "_uuid": "9253170faa77d33720d9fe4871222793bad33b30"
      },
      "cell_type": "code",
      "source": "dim(X_train)\ndim(y_train)",
      "execution_count": null,
      "outputs": []
    },
    {
      "metadata": {
        "trusted": true,
        "_uuid": "7e9069063579cddfb998333e21745e0c4db68cdb"
      },
      "cell_type": "code",
      "source": "X_valid <- valid_matrix[, 1:n_timesteps]\ny_valid <- valid_matrix[, (n_timesteps + 1):(n_timesteps * 2)]\nX_valid <- X_valid[1:(nrow(X_valid) %/% batch_size * batch_size), ]\ny_valid <- y_valid[1:(nrow(y_valid) %/% batch_size * batch_size), ]",
      "execution_count": null,
      "outputs": []
    },
    {
      "metadata": {
        "trusted": true,
        "_uuid": "da012f1c7e9591a59ee37e66def159a96ea6df8c"
      },
      "cell_type": "code",
      "source": "dim(X_valid)\ndim(y_valid)",
      "execution_count": null,
      "outputs": []
    },
    {
      "metadata": {
        "trusted": true,
        "_uuid": "745888b4a8e36e0a28deed9b18376fedb8541098"
      },
      "cell_type": "code",
      "source": "X_test <- test_matrix[, 1:n_timesteps]\ny_test <- test_matrix[, (n_timesteps + 1):(n_timesteps * 2)]\nX_test <- X_test[1:(nrow(X_test) %/% batch_size * batch_size), ]\ny_test <- y_test[1:(nrow(y_test) %/% batch_size * batch_size), ]",
      "execution_count": null,
      "outputs": []
    },
    {
      "metadata": {
        "trusted": true,
        "_uuid": "b26e9e1a97b9fa137106bda730dd860f47eb58d8"
      },
      "cell_type": "code",
      "source": "dim(X_test)\ndim(y_test)",
      "execution_count": null,
      "outputs": []
    },
    {
      "metadata": {
        "trusted": true,
        "_uuid": "aa426295af98e2f36b478b18d7fcf7405c2f0d6c"
      },
      "cell_type": "code",
      "source": "# add on the required third axis\nX_train <- reshape_X_3d(X_train)\nX_valid <- reshape_X_3d(X_valid)\nX_test <- reshape_X_3d(X_test)",
      "execution_count": null,
      "outputs": []
    },
    {
      "metadata": {
        "trusted": true,
        "_uuid": "fd4ae3a5642d234346fb37f0cb96226357f169fd"
      },
      "cell_type": "code",
      "source": "y_train <- reshape_X_3d(y_train)\ny_valid <- reshape_X_3d(y_valid)\ny_test <- reshape_X_3d(y_test)",
      "execution_count": null,
      "outputs": []
    },
    {
      "metadata": {
        "trusted": true,
        "_uuid": "4a3c78707e1920c859c0aa1f16ab5192e49261bf"
      },
      "cell_type": "code",
      "source": "FLAGS <- flags(\n  # There is a so-called \"stateful LSTM\" in Keras. While LSTM is stateful\n  # per se, this adds a further tweak where the hidden states get \n  # initialized with values from the item at same position in the previous\n  # batch. This is helpful just under specific circumstances, or if you want\n  # to create an \"infinite stream\" of states, in which case you'd use 1 as \n  # the batch size. Below, we show how the code would have to be changed to\n  # use this, but it won't be further discussed here.\n  flag_boolean(\"stateful\", FALSE),\n  # Should we use several layers of LSTM?\n  # Again, just included for completeness, it did not yield any superior \n  # performance on this task.\n  # This will actually stack exactly one additional layer of LSTM units.\n  flag_boolean(\"stack_layers\", FALSE),\n  # number of samples fed to the model in one go\n  flag_integer(\"batch_size\", 5),\n  # size of the hidden state, equals size of predictions\n  flag_integer(\"n_timesteps\", 12),\n  # how many epochs to train for\n  flag_integer(\"n_epochs\", 1000),\n  # fraction of the units to drop for the linear transformation of the inputs\n  flag_numeric(\"dropout\", 0.2),\n  # fraction of the units to drop for the linear transformation of the \n  # recurrent state\n  flag_numeric(\"recurrent_dropout\", 0.2),\n  # loss function. Found to work better for this specific case than mean\n  # squared error\n  flag_string(\"loss\", \"logcosh\"),\n  # optimizer = stochastic gradient descent. Seemed to work better than adam \n  # or rmsprop here (as indicated by limited testing)\n  flag_string(\"optimizer_type\", \"sgd\"),\n  # size of the LSTM layer\n  flag_integer(\"n_units\", 128),\n  # learning rate\n  flag_numeric(\"lr\", 0.003),\n  # momentum, an additional parameter to the SGD optimizer\n  flag_numeric(\"momentum\", 0.9),\n  # parameter to the early stopping callback\n  flag_integer(\"patience\", 10)\n)\n\n# the number of predictions we'll make equals the length of the hidden state\nn_predictions <- FLAGS$n_timesteps\n# how many features = predictors we have\nn_features <- 1\n# just in case we wanted to try different optimizers, we could add here\noptimizer <- switch(FLAGS$optimizer_type,\n                    sgd = optimizer_sgd(lr = FLAGS$lr, \n                                        momentum = FLAGS$momentum)\n                    )\n\n# callbacks to be passed to the fit() function\n# We just use one here: we may stop before n_epochs if the loss on the\n# validation set does not decrease (by a configurable amount, over a \n# configurable time)\ncallbacks <- list(\n  callback_early_stopping(patience = FLAGS$patience)\n)",
      "execution_count": null,
      "outputs": []
    },
    {
      "metadata": {
        "trusted": true,
        "_uuid": "6a937d26bd456435150543b66c5241d7b774622c"
      },
      "cell_type": "code",
      "source": "# create the model\nmodel <- keras_model_sequential()\n\n# add layers\n# we have just two, the LSTM and the time_distributed \nmodel %>%\n  layer_lstm(\n    units = FLAGS$n_units, \n    # the first layer in a model needs to know the shape of the input data\n    batch_input_shape  = c(FLAGS$batch_size, FLAGS$n_timesteps, n_features),\n    dropout = FLAGS$dropout,\n    recurrent_dropout = FLAGS$recurrent_dropout,\n    # by default, an LSTM just returns the final state\n    return_sequences = TRUE\n  ) %>% time_distributed(layer_dense(units = 1))\n\nmodel %>%\n  compile(\n    loss = FLAGS$loss,\n    optimizer = optimizer,\n    # in addition to the loss, Keras will inform us about current \n    # MSE while training\n    metrics = list(\"mean_squared_error\")\n  )",
      "execution_count": null,
      "outputs": []
    },
    {
      "metadata": {
        "trusted": true,
        "_uuid": "364c72d12df4d2485c0c95fe4860c67295365e17"
      },
      "cell_type": "code",
      "source": "dim(X_train)",
      "execution_count": null,
      "outputs": []
    },
    {
      "metadata": {
        "trusted": true,
        "_uuid": "614be998ee2b69ab1943085d68a30cd7a89b8bb4"
      },
      "cell_type": "code",
      "source": "history <- model %>% fit(\n  x          = X_train,\n  y          = y_train,\n  validation_data = list(X_valid, y_valid),\n  batch_size = FLAGS$batch_size,\n  epochs     = FLAGS$n_epochs,\n  callbacks = callbacks\n)",
      "execution_count": null,
      "outputs": []
    },
    {
      "metadata": {
        "trusted": true,
        "_uuid": "0d68a729aaf7adb1a7615781583cda8b98a823ad"
      },
      "cell_type": "code",
      "source": "plot(history, metrics = \"loss\")",
      "execution_count": null,
      "outputs": []
    },
    {
      "metadata": {
        "trusted": true,
        "_uuid": "a8622ca477f7211df39cadc0d2f0aba591350962"
      },
      "cell_type": "code",
      "source": "pred_train <- model %>%\n  predict(X_train, batch_size = FLAGS$batch_size) %>%\n  .[, , 1]\n\n# Retransform values to original scale\npred_train <- (pred_train * scale_history + center_history) ^2\ncompare_train <- df %>% filter(key == \"training\")\n\n# build a dataframe that has both actual and predicted values\nfor (i in 1:nrow(pred_train)) {\n  varname <- paste0(\"pred_train\", i)\n  compare_train <-\n    mutate(compare_train,!!varname := c(\n      rep(NA, FLAGS$n_timesteps + i - 1),\n      pred_train[i,],\n      rep(NA, nrow(compare_train) - FLAGS$n_timesteps * 2 - i + 1)\n    ))\n}",
      "execution_count": null,
      "outputs": []
    },
    {
      "metadata": {
        "trusted": true,
        "_uuid": "0bbcae55a54ef6a1c3fe5e703d4fd0c8a60b56ac"
      },
      "cell_type": "code",
      "source": "coln <- colnames(compare_train)[4:ncol(compare_train)]\ncols <- map(coln, quo(sym(.)))\nrsme_train <-\n  map_dbl(cols, function(col)\n    rmse(\n      compare_train,\n      truth = value,\n      estimate = !!col,\n      na.rm = TRUE\n    )) %>% mean()\n\nrsme_train",
      "execution_count": null,
      "outputs": []
    },
    {
      "metadata": {
        "trusted": true,
        "_uuid": "c23ceb3e42baa76308504f3f92f6b9b77071c00b"
      },
      "cell_type": "code",
      "source": "ggplot(compare_train, aes(x = index, y = value)) + geom_line() +\n  geom_line(aes(y = pred_train1), color = \"cyan\") +\n  geom_line(aes(y = pred_train15), color = \"violet\") +\n  geom_line(aes(y = pred_train30), color = \"red\") +\n  geom_line(aes(y = pred_train45), color = \"red\") +\n  geom_line(aes(y = pred_train60), color = \"cyan\") +\n  ggtitle(\"Predictions on the training set\")",
      "execution_count": null,
      "outputs": []
    },
    {
      "metadata": {
        "trusted": true,
        "_uuid": "5bc5c82b5c9348f78fd9e0b8e627b31f1fe5e753"
      },
      "cell_type": "code",
      "source": "pred_test <- model %>%\n  predict(X_test, batch_size = FLAGS$batch_size) %>%\n  .[, , 1]\n\n# Retransform values to original scale\npred_test <- (pred_test * scale_history + center_history) ^2\npred_test[1:10, 1:5] %>% print()\ncompare_test <- df %>% filter(key == \"testing\")\n\n# build a dataframe that has both actual and predicted values\nfor (i in 1:nrow(pred_test)) {\n  varname <- paste0(\"pred_test\", i)\n  compare_test <-\n    mutate(compare_test,!!varname := c(\n      rep(NA, FLAGS$n_timesteps + i - 1),\n      pred_test[i,],\n      rep(NA, nrow(compare_test) - FLAGS$n_timesteps * 2 - i + 1)\n    ))\n}\ncompare_test[FLAGS$n_timesteps:(FLAGS$n_timesteps + 10), c(2, 4:8)] %>% print()\n\ncoln <- colnames(compare_test)[4:ncol(compare_test)]\ncols <- map(coln, quo(sym(.)))\nrsme_test <-\n  map_dbl(cols, function(col)\n    rmse(\n      compare_test,\n      truth = value,\n      estimate = !!col,\n      na.rm = TRUE\n    )) %>% mean()\n\nrsme_test",
      "execution_count": null,
      "outputs": []
    },
    {
      "metadata": {
        "trusted": true,
        "_uuid": "84b442a1ee47d280dc4fa707aa03c4533dff42ba"
      },
      "cell_type": "code",
      "source": "ggplot(compare_test, aes(x = index, y = value)) + geom_line() +\n  geom_line(aes(y = pred_test1), color = \"cyan\") +\n  geom_line(aes(y = pred_test5), color = \"red\") +\n  geom_line(aes(y = pred_test10), color = \"green\") +\n  geom_line(aes(y = pred_test15), color = \"violet\") +\n  geom_line(aes(y = pred_test20), color = \"cyan\") +\n  geom_line(aes(y = pred_test25), color = \"violet\") +\n  geom_line(aes(y = pred_test30), color = \"cyan\") +\n  ggtitle(\"Predictions on test set\")",
      "execution_count": null,
      "outputs": []
    },
    {
      "metadata": {
        "trusted": true,
        "_uuid": "d3cf908fa879c0c67eeb7519645a82d09667d454"
      },
      "cell_type": "code",
      "source": "",
      "execution_count": null,
      "outputs": []
    }
  ],
  "metadata": {
    "kernelspec": {
      "display_name": "R",
      "language": "R",
      "name": "ir"
    },
    "language_info": {
      "mimetype": "text/x-r-source",
      "name": "R",
      "pygments_lexer": "r",
      "version": "3.4.2",
      "file_extension": ".r",
      "codemirror_mode": "r"
    }
  },
  "nbformat": 4,
  "nbformat_minor": 1
}